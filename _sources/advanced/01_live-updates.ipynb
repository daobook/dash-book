{
 "cells": [
  {
   "cell_type": "markdown",
   "id": "f9e29c43",
   "metadata": {},
   "source": [
    "(dash:live-updates)=\n",
    "# 实时更新\n",
    "\n",
    "参考：[Live Updates | Dash for Python Documentation | Plotly](https://dash.plotly.com/live-updates)\n",
    "\n",
    "## `dcc.Interval`\n",
    "\n",
    "Dash 中的组件通常通过用户交互进行更新，比如：选择下拉菜单，拖动滑块，悬停在点上。\n",
    "\n",
    "如果您正在构建用于监视的应用程序，您可能希望每隔几秒或几分钟更新应用程序中的组件。[`dash_core_components.Interval`](dash:dcc/interval) 元素允许您按预定义的时间间隔更新组件。`n_interval` 属性是一个整数，每经过 `interval` 毫秒时间间隔就自动增加一次。你可以在你的应用程序的 `callback` 中监听这个变量，以按预先定义的时间间隔触发回调。\n",
    "\n",
    "此示例从实时卫星反馈中提取数据，并每秒钟更新图表和文本。\n",
    "\n",
    "```{include} ../examples/live_update.py\n",
    ":code: python\n",
    "```"
   ]
  },
  {
   "cell_type": "code",
   "execution_count": 1,
   "id": "b679ece9",
   "metadata": {
    "tags": [
     "remove-input"
    ]
   },
   "outputs": [
    {
     "data": {
      "text/html": [
       "<embed type=\"text/html\" class=\"w3-pale-blue\" width=\"100%\" height=\"523\" src=\"https://dash-tests.herokuapp.com/examples/live-update\">"
      ],
      "text/plain": [
       "<sanstyle.display.html.Embed at 0x7f6d542f2450>"
      ]
     },
     "execution_count": 1,
     "metadata": {},
     "output_type": "execute_result"
    }
   ],
   "source": [
    "from sanstyle.display.html import Embed\n",
    "\n",
    "snippet_url = 'https://dash-tests.herokuapp.com'\n",
    "Embed(snippet_url + '/examples/live-update',\n",
    "      className='w3-pale-blue',\n",
    "      height=523)"
   ]
  },
  {
   "cell_type": "markdown",
   "id": "9dad79d9",
   "metadata": {},
   "source": [
    "## 页面加载更新\n",
    "\n",
    "默认情况下，Dash 应用程序将 `app.layout` 存储在内存中。这确保当应用程序启动时，布局只计算一次。\n",
    "\n",
    "如果你将 `app.layout` 设置为一个函数，那么你就可以在每次页面加载时提供动态布局。\n",
    "\n",
    "例如，如果你的 `app.layout` 是这样的：\n",
    "\n",
    "```python\n",
    "import datetime\n",
    "\n",
    "import dash\n",
    "import dash_html_components as html\n",
    "\n",
    "app.layout = html.H1('The time is: ' + str(datetime.datetime.now()))\n",
    "\n",
    "if __name__ == '__main__':\n",
    "    app.run_server(debug=True)\n",
    "```\n",
    "\n",
    "然后你的应用程序将显示应用程序启动的时间。\n",
    "\n",
    "如果您将此更改为一个函数，那么每次刷新页面都会计算一个新的 `datetime`。试一试：\n",
    "\n",
    "```python\n",
    "import datetime\n",
    "\n",
    "import dash\n",
    "import dash_html_components as html\n",
    "from jupyter_dash import JupyterDash as Dash\n",
    "\n",
    "def serve_layout():\n",
    "    return html.H1('The time is: ' + str(datetime.datetime.now()))\n",
    "\n",
    "external_stylesheets = ['https://codepen.io/chriddyp/pen/bWLwgP.css']\n",
    "app = Dash(__name__, external_stylesheets=external_stylesheets)\n",
    "\n",
    "app.layout = serve_layout\n",
    "\n",
    "if __name__ == '__main__':\n",
    "    app.run_server(debug=True)\n",
    "```\n",
    "\n",
    "```{attention}\n",
    "你需要写 `app.layout = serve_layout`，而不是 `app.layout = serve_layout()`。也就是说，将 `app.layout` 定义为实际的函数实例。\n",
    "```\n",
    "\n",
    "您可以将其与 [](dash:performance) 结合起来，每小时或每天提供一个独特的 `layout`，并在此期间从内存提供计算出 `layout`。"
   ]
  }
 ],
 "metadata": {
  "jupytext": {
   "formats": "ipynb,md:myst",
   "text_representation": {
    "extension": ".md",
    "format_name": "myst"
   }
  },
  "kernelspec": {
   "display_name": "ai",
   "language": "python",
   "name": "ai"
  },
  "language_info": {
   "codemirror_mode": {
    "name": "ipython",
    "version": 3
   },
   "file_extension": ".py",
   "mimetype": "text/x-python",
   "name": "python",
   "nbconvert_exporter": "python",
   "pygments_lexer": "ipython3",
   "version": "3.11.5"
  },
  "source_map": [
   11,
   30,
   39
  ]
 },
 "nbformat": 4,
 "nbformat_minor": 5
}