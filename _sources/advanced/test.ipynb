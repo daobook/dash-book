{
 "cells": [
  {
   "cell_type": "markdown",
   "id": "1b3e741b",
   "metadata": {},
   "source": [
    "# 测试"
   ]
  },
  {
   "cell_type": "code",
   "execution_count": 1,
   "id": "37b75715",
   "metadata": {},
   "outputs": [
    {
     "name": "stdout",
     "output_type": "stream",
     "text": [
      "D:\\AI\\xinetzone\\dash-book\n"
     ]
    }
   ],
   "source": [
    "cd .."
   ]
  },
  {
   "cell_type": "code",
   "execution_count": 2,
   "id": "d067d54e",
   "metadata": {
    "scrolled": false
   },
   "outputs": [
    {
     "name": "stdout",
     "output_type": "stream",
     "text": [
      "Hostname :   DESKTOP-5D4G6G9\n",
      "IP :  192.168.199.223\n"
     ]
    }
   ],
   "source": [
    "from dash_xinet.server import run_server"
   ]
  },
  {
   "cell_type": "code",
   "execution_count": 1,
   "id": "748f30d2",
   "metadata": {},
   "outputs": [
    {
     "name": "stdout",
     "output_type": "stream",
     "text": [
      "Dash app running on http://127.0.0.1:8050/\n"
     ]
    },
    {
     "name": "stderr",
     "output_type": "stream",
     "text": [
      "set key '__wz_cache_count' -> [WinError 5] 拒绝访问。: 'D:\\\\AI\\\\xinetzone\\\\dash-book\\\\advanced\\\\cache-directory\\\\tmpb66s2e9w.__wz_cache' -> 'cache-directory\\\\2029240f6d1128be89ddc32729463129'\n"
     ]
    }
   ],
   "source": [
    "import dash\n",
    "from jupyter_dash import JupyterDash as Dash\n",
    "from dash.dependencies import Input, Output\n",
    "import dash_core_components as dcc\n",
    "import dash_html_components as html\n",
    "import datetime\n",
    "from flask_caching import Cache\n",
    "import os\n",
    "import pandas as pd\n",
    "import time\n",
    "import uuid\n",
    "\n",
    "external_stylesheets = [\n",
    "    # Dash CSS\n",
    "    'https://codepen.io/chriddyp/pen/bWLwgP.css',\n",
    "    # Loading screen CSS\n",
    "    'https://codepen.io/chriddyp/pen/brPBPO.css']\n",
    "\n",
    "app = Dash(__name__, external_stylesheets=external_stylesheets)\n",
    "cache = Cache(app.server, config={\n",
    "    'CACHE_TYPE': 'redis',\n",
    "    # Note that filesystem cache doesn't work on systems with ephemeral\n",
    "    # filesystems like Heroku.\n",
    "    'CACHE_TYPE': 'filesystem',\n",
    "    'CACHE_DIR': 'cache-directory',\n",
    "\n",
    "    # should be equal to maximum number of users on the app at a single time\n",
    "    # higher numbers will store more data in the filesystem / redis cache\n",
    "    'CACHE_THRESHOLD': 200\n",
    "})\n",
    "\n",
    "\n",
    "def get_dataframe(session_id):\n",
    "    @cache.memoize()\n",
    "    def query_and_serialize_data(session_id):\n",
    "        # expensive or user/session-unique data processing step goes here\n",
    "\n",
    "        # simulate a user/session-unique data processing step by generating\n",
    "        # data that is dependent on time\n",
    "        now = datetime.datetime.now()\n",
    "\n",
    "        # simulate an expensive data processing task by sleeping\n",
    "        time.sleep(5)\n",
    "\n",
    "        df = pd.DataFrame({\n",
    "            'time': [\n",
    "                str(now - datetime.timedelta(seconds=15)),\n",
    "                str(now - datetime.timedelta(seconds=10)),\n",
    "                str(now - datetime.timedelta(seconds=5)),\n",
    "                str(now)\n",
    "            ],\n",
    "            'values': ['a', 'b', 'a', 'c']\n",
    "        })\n",
    "        return df.to_json()\n",
    "\n",
    "    return pd.read_json(query_and_serialize_data(session_id))\n",
    "\n",
    "\n",
    "def serve_layout():\n",
    "    session_id = str(uuid.uuid4())\n",
    "    return html.Div([\n",
    "        html.Div(session_id, id='session-id', style={'display': 'none'}),\n",
    "        html.Button('Get data', id='get-data-button'),\n",
    "        html.Div(id='output-1'),\n",
    "        html.Div(id='output-2')\n",
    "    ])\n",
    "\n",
    "\n",
    "app.layout = serve_layout\n",
    "\n",
    "\n",
    "@app.callback(Output('output-1', 'children'),\n",
    "              Input('get-data-button', 'n_clicks'),\n",
    "              Input('session-id', 'children'))\n",
    "def display_value_1(value, session_id):\n",
    "    df = get_dataframe(session_id)\n",
    "    return html.Div([\n",
    "        'Output 1 - Button has been clicked {} times'.format(value),\n",
    "        html.Pre(df.to_csv())\n",
    "    ])\n",
    "\n",
    "\n",
    "@app.callback(Output('output-2', 'children'),\n",
    "              Input('get-data-button', 'n_clicks'),\n",
    "              Input('session-id', 'children'))\n",
    "def display_value_2(value, session_id):\n",
    "    df = get_dataframe(session_id)\n",
    "    return html.Div([\n",
    "        'Output 2 - Button has been clicked {} times'.format(value),\n",
    "        html.Pre(df.to_csv())\n",
    "    ])\n",
    "\n",
    "\n",
    "if __name__ == '__main__':\n",
    "    app.run_server(debug=True)"
   ]
  },
  {
   "cell_type": "code",
   "execution_count": 4,
   "id": "c7eb1a92",
   "metadata": {
    "scrolled": true
   },
   "outputs": [
    {
     "name": "stdout",
     "output_type": "stream",
     "text": [
      "Dash app running on http://192.168.199.223:55555/\n"
     ]
    }
   ],
   "source": [
    "port = 55555\n",
    "app.config.suppress_callback_exceptions = True\n",
    "await run_server(app, layout,\n",
    "                 debug=True,\n",
    "                 port=port,\n",
    "                 # mode='inline',\n",
    "                 threaded=True)"
   ]
  },
  {
   "cell_type": "code",
   "execution_count": 6,
   "id": "4e62d3b7",
   "metadata": {},
   "outputs": [
    {
     "name": "stdout",
     "output_type": "stream",
     "text": [
      "Dash app running on http://192.168.199.223:55556/\n"
     ]
    }
   ],
   "source": [
    "from dash_table import DataTable\n",
    "\n",
    "url = lfs_url('SanstyleLab/plotly-dastsets',\n",
    "              'solar.csv')\n",
    "df = pd.read_csv(url)\n",
    "\n",
    "layout = DataTable(\n",
    "    id='table',\n",
    "    columns=[{\"name\": i, \"id\": i} for i in df.columns],\n",
    "    data=df.to_dict('records'),\n",
    ")\n",
    "\n",
    "port = 55556\n",
    "await run_server(app, layout,\n",
    "                 debug=True,\n",
    "                 port=port,\n",
    "                 # mode='inline',\n",
    "                 threaded=True)"
   ]
  },
  {
   "cell_type": "code",
   "execution_count": 7,
   "id": "1ae54d40",
   "metadata": {},
   "outputs": [
    {
     "data": {
      "text/html": [
       "<div>\n",
       "<style scoped>\n",
       "    .dataframe tbody tr th:only-of-type {\n",
       "        vertical-align: middle;\n",
       "    }\n",
       "\n",
       "    .dataframe tbody tr th {\n",
       "        vertical-align: top;\n",
       "    }\n",
       "\n",
       "    .dataframe thead th {\n",
       "        text-align: right;\n",
       "    }\n",
       "</style>\n",
       "<table border=\"1\" class=\"dataframe\">\n",
       "  <thead>\n",
       "    <tr style=\"text-align: right;\">\n",
       "      <th></th>\n",
       "      <th>State</th>\n",
       "      <th>Number of Solar Plants</th>\n",
       "      <th>Installed Capacity (MW)</th>\n",
       "      <th>Average MW Per Plant</th>\n",
       "      <th>Generation (GWh)</th>\n",
       "    </tr>\n",
       "  </thead>\n",
       "  <tbody>\n",
       "    <tr>\n",
       "      <th>0</th>\n",
       "      <td>California</td>\n",
       "      <td>289</td>\n",
       "      <td>4395</td>\n",
       "      <td>15.3</td>\n",
       "      <td>10826</td>\n",
       "    </tr>\n",
       "    <tr>\n",
       "      <th>1</th>\n",
       "      <td>Arizona</td>\n",
       "      <td>48</td>\n",
       "      <td>1078</td>\n",
       "      <td>22.5</td>\n",
       "      <td>2550</td>\n",
       "    </tr>\n",
       "    <tr>\n",
       "      <th>2</th>\n",
       "      <td>Nevada</td>\n",
       "      <td>11</td>\n",
       "      <td>238</td>\n",
       "      <td>21.6</td>\n",
       "      <td>557</td>\n",
       "    </tr>\n",
       "    <tr>\n",
       "      <th>3</th>\n",
       "      <td>New Mexico</td>\n",
       "      <td>33</td>\n",
       "      <td>261</td>\n",
       "      <td>7.9</td>\n",
       "      <td>590</td>\n",
       "    </tr>\n",
       "    <tr>\n",
       "      <th>4</th>\n",
       "      <td>Colorado</td>\n",
       "      <td>20</td>\n",
       "      <td>118</td>\n",
       "      <td>5.9</td>\n",
       "      <td>235</td>\n",
       "    </tr>\n",
       "    <tr>\n",
       "      <th>5</th>\n",
       "      <td>Texas</td>\n",
       "      <td>12</td>\n",
       "      <td>187</td>\n",
       "      <td>15.6</td>\n",
       "      <td>354</td>\n",
       "    </tr>\n",
       "    <tr>\n",
       "      <th>6</th>\n",
       "      <td>North Carolina</td>\n",
       "      <td>148</td>\n",
       "      <td>669</td>\n",
       "      <td>4.5</td>\n",
       "      <td>1162</td>\n",
       "    </tr>\n",
       "    <tr>\n",
       "      <th>7</th>\n",
       "      <td>New York</td>\n",
       "      <td>13</td>\n",
       "      <td>53</td>\n",
       "      <td>4.1</td>\n",
       "      <td>84</td>\n",
       "    </tr>\n",
       "  </tbody>\n",
       "</table>\n",
       "</div>"
      ],
      "text/plain": [
       "            State  Number of Solar Plants  Installed Capacity (MW)  \\\n",
       "0      California                     289                     4395   \n",
       "1         Arizona                      48                     1078   \n",
       "2          Nevada                      11                      238   \n",
       "3      New Mexico                      33                      261   \n",
       "4        Colorado                      20                      118   \n",
       "5           Texas                      12                      187   \n",
       "6  North Carolina                     148                      669   \n",
       "7        New York                      13                       53   \n",
       "\n",
       "   Average MW Per Plant  Generation (GWh)  \n",
       "0                  15.3             10826  \n",
       "1                  22.5              2550  \n",
       "2                  21.6               557  \n",
       "3                   7.9               590  \n",
       "4                   5.9               235  \n",
       "5                  15.6               354  \n",
       "6                   4.5              1162  \n",
       "7                   4.1                84  "
      ]
     },
     "execution_count": 7,
     "metadata": {},
     "output_type": "execute_result"
    }
   ],
   "source": [
    "df"
   ]
  },
  {
   "cell_type": "code",
   "execution_count": null,
   "id": "f2096dd4",
   "metadata": {},
   "outputs": [],
   "source": []
  }
 ],
 "metadata": {
  "kernelspec": {
   "display_name": "ai",
   "language": "python",
   "name": "ai"
  },
  "language_info": {
   "codemirror_mode": {
    "name": "ipython",
    "version": 3
   },
   "file_extension": ".py",
   "mimetype": "text/x-python",
   "name": "python",
   "nbconvert_exporter": "python",
   "pygments_lexer": "ipython3",
   "version": "3.9.5"
  }
 },
 "nbformat": 4,
 "nbformat_minor": 5
}
