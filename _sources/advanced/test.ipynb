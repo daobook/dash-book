{
 "cells": [
  {
   "cell_type": "markdown",
   "id": "1b3e741b",
   "metadata": {},
   "source": [
    "# 测试"
   ]
  },
  {
   "cell_type": "code",
   "execution_count": 1,
   "id": "37b75715",
   "metadata": {},
   "outputs": [
    {
     "name": "stdout",
     "output_type": "stream",
     "text": [
      "D:\\AI\\sanstyle\\dash-book\n"
     ]
    }
   ],
   "source": [
    "cd .."
   ]
  },
  {
   "cell_type": "code",
   "execution_count": 2,
   "id": "d067d54e",
   "metadata": {
    "scrolled": false
   },
   "outputs": [
    {
     "name": "stdout",
     "output_type": "stream",
     "text": [
      "Hostname :   DESKTOP-5D4G6G9\n",
      "IP :  192.168.199.223\n"
     ]
    }
   ],
   "source": [
    "from dash_xinet.server import run_server"
   ]
  },
  {
   "cell_type": "code",
   "execution_count": 3,
   "id": "748f30d2",
   "metadata": {},
   "outputs": [],
   "source": [
    "import collections\n",
    "import pandas as pd\n",
    "\n",
    "from dash.dependencies import Output, Input\n",
    "from dash.exceptions import PreventUpdate\n",
    "import dash_html_components as html\n",
    "import dash_core_components as dcc\n",
    "import dash_table\n",
    "from sanstyle.github.file import lfs_url\n",
    "\n",
    "from app import app\n",
    "\n",
    "url = lfs_url('SanstyleLab/plotly-dastsets',\n",
    "              'gapminderDataFiveYear.csv')\n",
    "df = pd.read_csv(url)\n",
    "countries = set(df['country'])\n",
    "\n",
    "\n",
    "layout = html.Div([\n",
    "    dcc.Store(id='memory-output'),\n",
    "    dcc.Dropdown(id='memory-countries', options=[\n",
    "        {'value': x, 'label': x} for x in countries\n",
    "    ], multi=True, value=['Canada', 'United States']),\n",
    "    dcc.Dropdown(id='memory-field', options=[\n",
    "        {'value': 'lifeExp', 'label': 'Life expectancy'},\n",
    "        {'value': 'gdpPercap', 'label': 'GDP per capita'},\n",
    "    ], value='lifeExp'),\n",
    "    html.Div([\n",
    "        dcc.Graph(id='memory-graph'),\n",
    "        dash_table.DataTable(\n",
    "            id='memory-table',\n",
    "            columns=[{'name': i, 'id': i} for i in df.columns]\n",
    "        ),\n",
    "    ])\n",
    "])\n",
    "\n",
    "\n",
    "@app.callback(Output('memory-output', 'data'),\n",
    "              Input('memory-countries', 'value'))\n",
    "def filter_countries(countries_selected):\n",
    "    if not countries_selected:\n",
    "        # 返回初始加载/没有选定国家时的所有行。\n",
    "        return df.to_dict('records')\n",
    "    filtered = df.query('country in @countries_selected')\n",
    "    return filtered.to_dict('records')\n",
    "\n",
    "\n",
    "@app.callback(Output('memory-table', 'data'),\n",
    "              Input('memory-output', 'data'))\n",
    "def on_data_set_table(data):\n",
    "    if data is None:\n",
    "        raise PreventUpdate\n",
    "    return data\n",
    "\n",
    "\n",
    "@app.callback(Output('memory-graph', 'figure'),\n",
    "              Input('memory-output', 'data'),\n",
    "              Input('memory-field', 'value'))\n",
    "def on_data_set_graph(data, field):\n",
    "    if data is None:\n",
    "        raise PreventUpdate\n",
    "    aggregation = collections.defaultdict(\n",
    "        lambda: collections.defaultdict(list)\n",
    "    )\n",
    "    for row in data:\n",
    "        a = aggregation[row['country']]\n",
    "        a['name'] = row['country']\n",
    "        a['mode'] = 'lines+markers'\n",
    "        a['x'].append(row[field])\n",
    "        a['y'].append(row['year'])\n",
    "    return {\n",
    "        'data': [x for x in aggregation.values()]\n",
    "    }"
   ]
  },
  {
   "cell_type": "code",
   "execution_count": 4,
   "id": "c7eb1a92",
   "metadata": {
    "scrolled": true
   },
   "outputs": [
    {
     "name": "stdout",
     "output_type": "stream",
     "text": [
      "Dash app running on http://192.168.199.223:55555/\n"
     ]
    }
   ],
   "source": [
    "port = 55555\n",
    "app.config.suppress_callback_exceptions = True\n",
    "await run_server(app, layout,\n",
    "                 debug=True,\n",
    "                 port=port,\n",
    "                 # mode='inline',\n",
    "                 threaded=True)"
   ]
  },
  {
   "cell_type": "code",
   "execution_count": null,
   "id": "4e62d3b7",
   "metadata": {},
   "outputs": [],
   "source": []
  }
 ],
 "metadata": {
  "kernelspec": {
   "display_name": "ai",
   "language": "python",
   "name": "ai"
  },
  "language_info": {
   "codemirror_mode": {
    "name": "ipython",
    "version": 3
   },
   "file_extension": ".py",
   "mimetype": "text/x-python",
   "name": "python",
   "nbconvert_exporter": "python",
   "pygments_lexer": "ipython3",
   "version": "3.9.5"
  }
 },
 "nbformat": 4,
 "nbformat_minor": 5
}
