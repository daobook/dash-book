{
 "cells": [
  {
   "cell_type": "markdown",
   "id": "1b3e741b",
   "metadata": {},
   "source": [
    "# 测试"
   ]
  },
  {
   "cell_type": "code",
   "execution_count": null,
   "id": "d067d54e",
   "metadata": {
    "scrolled": false
   },
   "outputs": [],
   "source": [
    "from dash_xinet.server import run_server, create_app\n",
    "\n",
    "external_stylesheets = ['https://codepen.io/chriddyp/pen/bWLwgP.css']\n",
    "app = create_app(__name__, external_stylesheets=external_stylesheets)"
   ]
  },
  {
   "cell_type": "code",
   "execution_count": null,
   "id": "743f4166",
   "metadata": {},
   "outputs": [],
   "source": [
    "import dash_core_components as dcc\n",
    "import dash_html_components as html\n",
    "from dash.dependencies import Input, Output, State"
   ]
  },
  {
   "cell_type": "code",
   "execution_count": null,
   "id": "4180b35a",
   "metadata": {},
   "outputs": [],
   "source": [
    "layout = html.Div([\n",
    "    dcc.Location(id='url', refresh=False),\n",
    "    html.Div(id='page-content')\n",
    "])\n",
    "\n",
    "\n",
    "index_page = html.Div([\n",
    "    dcc.Link('Go to Page 1', href='/page-1'),\n",
    "    html.Br(),\n",
    "    dcc.Link('Go to Page 2', href='/page-2'),\n",
    "])\n",
    "\n",
    "page_1_layout = html.Div([\n",
    "    html.H1('Page 1'),\n",
    "    dcc.Dropdown(\n",
    "        id='page-1-dropdown',\n",
    "        options=[{'label': i, 'value': i} for i in ['LA', 'NYC', 'MTL']],\n",
    "        value='LA'\n",
    "    ),\n",
    "    html.Div(id='page-1-content'),\n",
    "    html.Br(),\n",
    "    dcc.Link('Go to Page 2', href='/page-2'),\n",
    "    html.Br(),\n",
    "    dcc.Link('Go back to home', href='/'),\n",
    "])\n",
    "\n",
    "\n",
    "@app.callback(Output('page-1-content', 'children'),\n",
    "              [Input('page-1-dropdown', 'value')])\n",
    "def page_1_dropdown(value):\n",
    "    return f'You have selected \"{value}\"'\n",
    "\n",
    "\n",
    "page_2_layout = html.Div([\n",
    "    html.H1('Page 2'),\n",
    "    dcc.RadioItems(\n",
    "        id='page-2-radios',\n",
    "        options=[{'label': i, 'value': i} for i in ['Orange', 'Blue', 'Red']],\n",
    "        value='Orange'\n",
    "    ),\n",
    "    html.Div(id='page-2-content'),\n",
    "    html.Br(),\n",
    "    dcc.Link('Go to Page 1', href='/page-1'),\n",
    "    html.Br(),\n",
    "    dcc.Link('Go back to home', href='/')\n",
    "])\n",
    "\n",
    "\n",
    "@app.callback(Output('page-2-content', 'children'),\n",
    "              [Input('page-2-radios', 'value')])\n",
    "def page_2_radios(value):\n",
    "    return f'You have selected \"{value}\"'\n",
    "\n",
    "\n",
    "# 更新 index\n",
    "@app.callback(Output('page-content', 'children'),\n",
    "              [Input('url', 'pathname')])\n",
    "def display_page(pathname):\n",
    "    if pathname == '/page-1':\n",
    "        return page_1_layout\n",
    "    elif pathname == '/page-2':\n",
    "        return page_2_layout\n",
    "    else:\n",
    "        return index_page\n",
    "    # 你也可以在这里返回一个404 \"URL not found\""
   ]
  },
  {
   "cell_type": "code",
   "execution_count": null,
   "id": "c7eb1a92",
   "metadata": {
    "scrolled": false
   },
   "outputs": [],
   "source": [
    "port = 5555\n",
    "app.config.suppress_callback_exceptions = True\n",
    "await run_server(app, layout, port=port)"
   ]
  }
 ],
 "metadata": {
  "kernelspec": {
   "display_name": "ai",
   "language": "python",
   "name": "ai"
  },
  "language_info": {
   "codemirror_mode": {
    "name": "ipython",
    "version": 3
   },
   "file_extension": ".py",
   "mimetype": "text/x-python",
   "name": "python",
   "nbconvert_exporter": "python",
   "pygments_lexer": "ipython3",
   "version": "3.9.5"
  }
 },
 "nbformat": 4,
 "nbformat_minor": 5
}
