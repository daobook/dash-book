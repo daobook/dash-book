{
 "cells": [
  {
   "cell_type": "markdown",
   "id": "6b45a0d9",
   "metadata": {},
   "source": [
    "(dash:advanced-callbacks)=\n",
    "# 高级回调\n",
    "\n",
    "参考：[Advanced Callbacks](https://dash.plotly.com/advanced-callbacks)\n",
    "\n",
    "## 使用 `PreventUpdate` 捕获错误\n",
    "\n",
    "在某些情况下，您不想更新回调输出。您可以通过在回调函数中引发 `PreventUpdate` 异常来实现此目的。\n",
    "\n",
    "```{include} ../examples/prevent_update.py\n",
    ":code: python\n",
    "```"
   ]
  },
  {
   "cell_type": "code",
   "execution_count": 1,
   "id": "c2c66cfe",
   "metadata": {
    "tags": [
     "remove-input"
    ]
   },
   "outputs": [
    {
     "data": {
      "text/html": [
       "<embed type=\"text/html\" class=\"w3-pale-blue\" width=\"100%\" height=\"70\" src=\"https://dash-tests.herokuapp.com/examples/prevent-update\">"
      ],
      "text/plain": [
       "<sanstyle.display.html.Embed at 0x7f151c41d580>"
      ]
     },
     "execution_count": 1,
     "metadata": {},
     "output_type": "execute_result"
    }
   ],
   "source": [
    "from sanstyle.display.html import Embed\n",
    "\n",
    "snippet_url = 'https://dash-tests.herokuapp.com'\n",
    "Embed(snippet_url + '/examples/prevent-update',\n",
    "      className='w3-pale-blue',\n",
    "      height=70)"
   ]
  },
  {
   "cell_type": "markdown",
   "id": "741f5ba5",
   "metadata": {},
   "source": [
    "## 使用 `dash.no_update` 显示错误\n",
    "\n",
    "此示例说明如何使用 `dash.no_update` 来部分更新输出，从而在保留先前输入的同时显示错误。\n",
    "\n",
    "```{include} ../examples/no_update.py\n",
    ":code: python\n",
    "```"
   ]
  },
  {
   "cell_type": "code",
   "execution_count": 2,
   "id": "7723fcbf",
   "metadata": {
    "tags": [
     "remove-input"
    ]
   },
   "outputs": [
    {
     "data": {
      "text/html": [
       "<embed type=\"text/html\" class=\"w3-pale-blue\" width=\"100%\" height=\"160\" src=\"https://dash-tests.herokuapp.com/examples/no-update\">"
      ],
      "text/plain": [
       "<sanstyle.display.html.Embed at 0x7f151c3ca760>"
      ]
     },
     "execution_count": 2,
     "metadata": {},
     "output_type": "execute_result"
    }
   ],
   "source": [
    "from sanstyle.display.html import Embed\n",
    "\n",
    "snippet_url = 'https://dash-tests.herokuapp.com'\n",
    "Embed(snippet_url + '/examples/no-update',\n",
    "      className='w3-pale-blue',\n",
    "      height=160)"
   ]
  },
  {
   "cell_type": "markdown",
   "id": "779fbaa3",
   "metadata": {},
   "source": [
    "## 确定使用 `dash.callback_context` 触发了哪个输入\n",
    "\n",
    "除了 `n_clicks` 之类的事件属性会在事件发生（在这种情况下为单击）时发生更改之外，还有一个全局变量 `dash.callback_context`，仅在回调内部可用。它具有以下特性：\n",
    "\n",
    "- `triggered`：已更改属性的列表。在初始加载时，此属性将为空，除非 `Input` 属性从另一个初始回调获得值。在用户操作之后，它是一个长度为 1 的列表，除非单个组件的两个属性同时更新，例如值和时间戳或事件计数器。\n",
    "- `inputs` 和 `states`：允许您通过 `id` 和 `prop` 而不是通过函数 `args` 来访问回调参数。这些具有字典的形式 `{'component_id.prop_name': value}`\n",
    "\n",
    "这是如何完成此操作的示例：\n",
    "\n",
    "```{include} ../examples/callback_context.py\n",
    ":code: python\n",
    "```"
   ]
  },
  {
   "cell_type": "code",
   "execution_count": 3,
   "id": "29c27cbc",
   "metadata": {
    "tags": [
     "remove-input"
    ]
   },
   "outputs": [
    {
     "data": {
      "text/html": [
       "<embed type=\"text/html\" class=\"w3-pale-blue\" width=\"100%\" height=\"470\" src=\"https://dash-tests.herokuapp.com/examples/callback-context\">"
      ],
      "text/plain": [
       "<sanstyle.display.html.Embed at 0x7f151c3ca880>"
      ]
     },
     "execution_count": 3,
     "metadata": {},
     "output_type": "execute_result"
    }
   ],
   "source": [
    "from sanstyle.display.html import Embed\n",
    "\n",
    "snippet_url = 'https://dash-tests.herokuapp.com'\n",
    "Embed(snippet_url + '/examples/callback-context',\n",
    "      className='w3-pale-blue',\n",
    "      height=470)"
   ]
  },
  {
   "cell_type": "markdown",
   "id": "88397efe",
   "metadata": {},
   "source": [
    "```{hint}\n",
    "在 v0.38.0 之前的版本中，您需要比较诸如 `n_clicks_timestamp` 之类的时间戳属性以查找最近的点击。虽然 `*_timestamp` 的现有用法现在仍可以继续工作，但是不建议使用此方法，并且可以在以后的更新中将其删除。一个例外是 `dcc.Store` 的 `Modifyed_timestamp`，它可以安全使用，并且不建议使用。\n",
    "```\n",
    "\n",
    "(dash:advanced-callbacks/memoization)=\n",
    "## 通过 memoization 提高性能\n",
    "\n",
    "借助 Memoization，可以存储函数调用的结果来绕开长时间的计算。\n",
    "\n",
    "为了更好地理解记忆的工作原理，让我们从一个简单的示例开始。\n",
    "\n",
    "```python\n",
    "import time\n",
    "import functools\n",
    "\n",
    "\n",
    "@functools.lru_cache(maxsize=32)\n",
    "def slow_function(inputs):\n",
    "    time.sleep(10)\n",
    "    return f'Input was {inputs}'\n",
    "```\n",
    "\n",
    "第一次调用 `slow_function('test')` 将需要 10 秒钟。第二次使用相同的参数调用它几乎不需要花费时间，因为先前计算的结果已保存在内存中并可以重复使用。\n",
    "\n",
    "Dash 文档的 [](dash:performance) 部分深入研究了利用多个进程和线程以及 memoization 来进一步提高性能的情况。\n",
    "\n",
    "## 何时执行回调？\n",
    "\n",
    "本节介绍了 `dash-renderer` 前端客户端可以向 Dash 后端服务器（或客户端回调代码）发出请求以执行回调函数的情况。\n",
    "\n",
    "### 首次加载 Dash 应用程序时\n",
    "\n",
    "首次加载应用程序时，Dash 应用程序中的所有回调均以其输入的初始值执行。这称为回调的“初始调用”。若要了解如何抑制此行为，请参阅 Dash 回调的 [`prevent_initial_call`](dash:prevent-callbacks-from-being-executed-on-initial-load) 属性的文档。\n",
    "\n",
    "重要的是要注意，当 Dash 应用程序最初由 `dash-renderer` 前端客户端加载到 Web 浏览器中时，将递归检查其整个回调链。\n",
    "\n",
    "这使得 `dash-renderer` 可以预测执行回调的顺序，因为当回调的输入是尚未触发的其他回调的输出时，它们将被阻塞。为了取消阻止执行这些回调，必须先执行其输入立即可用的回调。此过程通过确保仅在所有回调的输入都达到其最终值时才请求执行回调，来帮助 `dash-renderer` 最大程度地减少其使用的时间和精力，并避免不必要地重画页面。\n",
    "\n",
    "检查以下 Dash 应用程序：\n",
    "\n",
    "```{include} ../examples/first_load.py\n",
    ":code: python\n",
    "```"
   ]
  },
  {
   "cell_type": "code",
   "execution_count": 4,
   "id": "921b8735",
   "metadata": {
    "tags": [
     "remove-input"
    ]
   },
   "outputs": [
    {
     "data": {
      "text/html": [
       "<embed type=\"text/html\" class=\"w3-pale-blue\" width=\"100%\" height=\"100\" src=\"https://dash-tests.herokuapp.com/examples/first-load\">"
      ],
      "text/plain": [
       "<sanstyle.display.html.Embed at 0x7f151c3ca9d0>"
      ]
     },
     "execution_count": 4,
     "metadata": {},
     "output_type": "execute_result"
    }
   ],
   "source": [
    "from sanstyle.display.html import Embed\n",
    "\n",
    "snippet_url = 'https://dash-tests.herokuapp.com'\n",
    "Embed(snippet_url + '/examples/first-load',\n",
    "      className='w3-pale-blue',\n",
    "      height=100)"
   ]
  },
  {
   "cell_type": "markdown",
   "id": "556ec08a",
   "metadata": {},
   "source": [
    "请注意，当完成该应用程序的 Web 浏览器加载并准备好与用户进行交互时，`html.Div` 组件不会像在应用程序的 `layout` 中声明的那样说“未执行回调”，而是 `n_clicks` 为 `None`，这是由于 `change_text()` 回调正在执行。这是因为回调的“初始调用”是使用值为 `None` 的 `n_clicks` 发生的。\n",
    "\n",
    "### 用户交互的直接结果\n",
    "\n",
    "通常，回调是用户交互的直接结果，例如单击按钮或在下拉菜单中选择一项。当发生这种交互时，Dash 组件将其新值传递给 `dash-renderer` 前端客户端，该客户端再请求 Dash 服务器执行将新更改的值作为输入的任何回调函数。\n",
    "\n",
    "如果 Dash 应用程序具有多个回调，则 `dash-renderer` 会根据是否可以使用新更改的输入立即执行回调来请求执行回调。如果多个输入同时更改，则将请求全部执行它们。\n",
    "\n",
    "这些请求是以同步还是异步方式执行取决于 Dash 后端服务器的特定设置。如果它在多线程环境中运行，那么所有回调都可以同时执行，并且它们将根据执行速度返回值。但是，在单线程环境中，回调将按照服务器接收到的顺序一次执行一次。\n",
    "\n",
    "在上面的示例应用程序中，单击按钮将导致执行回调。\n",
    "\n",
    "### 用户交互的间接结果\n",
    "\n",
    "当用户与组件进行交互时，生成的回调可能会有输出，这些输出本身就是其他回调的输入。`dash-renderer`将阻止此类回调的执行，直到执行了其输出为其输入的回调为止。\n",
    "\n",
    "请使用以下 Dash 应用程序：\n",
    "\n",
    "```{include} ../examples/indirect_result.py\n",
    ":code: python\n",
    "```"
   ]
  },
  {
   "cell_type": "code",
   "execution_count": 5,
   "id": "5f70588d",
   "metadata": {
    "tags": [
     "remove-input"
    ]
   },
   "outputs": [
    {
     "data": {
      "text/html": [
       "<embed type=\"text/html\" class=\"w3-pale-blue\" width=\"100%\" height=\"110\" src=\"https://dash-tests.herokuapp.com/examples/indirect-result\">"
      ],
      "text/plain": [
       "<sanstyle.display.html.Embed at 0x7f151c3caaf0>"
      ]
     },
     "execution_count": 5,
     "metadata": {},
     "output_type": "execute_result"
    }
   ],
   "source": [
    "from sanstyle.display.html import Embed\n",
    "\n",
    "snippet_url = 'https://dash-tests.herokuapp.com'\n",
    "Embed(snippet_url + '/examples/indirect-result',\n",
    "      className='w3-pale-blue',\n",
    "      height=110)"
   ]
  },
  {
   "cell_type": "markdown",
   "id": "e7d5da22",
   "metadata": {},
   "source": [
    "上面的 Dash 应用演示了回调如何链接在一起。请注意，如果您先单击 `\"execute slow callback\"`，然后单击 `\"execute fast callback\"`，则直到慢速回调完成执行后，才会执行第三个回调。这是因为第三个回调将第二个回调的输出作为其输入，这使 `dash-renderer` 知道应将其执行延迟到第二个回调完成之后。\n",
    "\n",
    "### 将 Dash 组件添加到 `layout` 时\n",
    "\n",
    "回调可能会将新的 Dash 组件插入 Dash 应用程序的 `layout`中。如果这些新组件本身是其他回调函数的输入，则它们在 Dash 应用程序 `layout` 中的出现将触发这些回调函数被执行。\n",
    "\n",
    "在这种情况下，可能会发出多个请求以执行相同的回调函数。如果已经请求了有问题的回调，并且在将新组件（也就是其输入）添加到 `layout` 之前返回了其输出，则会发生这种情况。\n",
    "\n",
    "(dash:prevent-callbacks-from-being-executed-on-initial-load)=\n",
    "### 阻止在初始组件渲染时执行回调\n",
    "\n",
    "您可以使用 `prevent_initial_call` 属性来阻止在其输入最初出现在 Dash 应用程序的 `layout` 中时触发回调。\n",
    "\n",
    "此属性在最初加载 Dash 应用程序的 `layout` 时适用，并且在触发回调时将新组件引入到 `layout` 中时也适用。\n",
    "\n",
    "```{include} ../examples/prevent_initial_call.py\n",
    ":code: python\n",
    "```"
   ]
  },
  {
   "cell_type": "code",
   "execution_count": 6,
   "id": "87710335",
   "metadata": {
    "tags": [
     "remove-input"
    ]
   },
   "outputs": [
    {
     "data": {
      "text/html": [
       "<embed type=\"text/html\" class=\"w3-pale-blue\" width=\"100%\" height=\"150\" src=\"https://dash-tests.herokuapp.com/examples/prevent-initial-call\">"
      ],
      "text/plain": [
       "<sanstyle.display.html.Embed at 0x7f151c3ca4c0>"
      ]
     },
     "execution_count": 6,
     "metadata": {},
     "output_type": "execute_result"
    }
   ],
   "source": [
    "from sanstyle.display.html import Embed\n",
    "\n",
    "snippet_url = 'https://dash-tests.herokuapp.com'\n",
    "Embed(snippet_url + '/examples/prevent-initial-call',\n",
    "      className='w3-pale-blue',\n",
    "      height=150)"
   ]
  },
  {
   "cell_type": "markdown",
   "id": "0b89a336",
   "metadata": {},
   "source": [
    "但是，仅当应用程序初始加载时在应用程序 `layout` 中同时存在回调输出和输入的情况下，以上行为才适用。\n",
    "\n",
    "重要的是要注意，在应用程序最初加载之后，如果回调的输入由于另一个回调的结果而被插入到 `layout` 中，除非输出与该输入一起插入，否则 `prevent_initial_call` 不会阻止回调的触发！\n",
    "\n",
    "换句话说，如果在将回调的输入插入到 `layout` 之前，该回调的输出已经存在于应用程序`layout`中，那么当将输入首次插入到`layout`中时，`prevent_initial_call` 将不会阻止其执行。\n",
    "\n",
    "考虑以下示例：\n",
    "\n",
    "```python\n",
    "import dash\n",
    "import dash_core_components as dcc\n",
    "import dash_html_components as html\n",
    "from dash.dependencies import Input, Output, State\n",
    "import urllib\n",
    "app = dash.Dash(__name__, suppress_callback_exceptions=True)\n",
    "server = app.server\n",
    "app.layout = html.Div([\n",
    "    dcc.Location(id='url'),\n",
    "    html.Div(id='layout-div'),\n",
    "    html.Div(id='content')\n",
    "])\n",
    "\n",
    "\n",
    "@app.callback(Output('content', 'children'),\n",
    "              Input('url', 'pathname'))\n",
    "def display_page(pathname):\n",
    "    return html.Div([\n",
    "        dcc.Input(id='input', value='hello world'),\n",
    "        html.Div(id='output')\n",
    "    ])\n",
    "\n",
    "\n",
    "@app.callback(Output('output', 'children'),\n",
    "              Input('input', 'value'),\n",
    "              prevent_initial_call=True)\n",
    "def update_output(value):\n",
    "    print('>>> update_output')\n",
    "    return value\n",
    "\n",
    "\n",
    "@app.callback(Output('layout-div', 'children'),\n",
    "              Input('input', 'value'),\n",
    "              prevent_initial_call=True)\n",
    "def update_layout_div(value):\n",
    "    print('>>> update_layout_div')\n",
    "    return value\n",
    "```\n",
    "\n",
    "在这种情况下，`prevent_initial_call`将防止由于`display_page()`回调而将其输入首次插入应用程序 `layout` 时触发 `update_output()` 回调。这是因为执行回调时，回调的输入和输出都已包含在应用 `layout` 中。\n",
    "\n",
    "但是，由于应用程序 `layout` 仅包含回调的输出，而不包含其输入，因此 `prevent_initial_call` 不会阻止 `update_layout_div()` 回调触发。由于此处指定了 `prevent_callback_exceptions = True`，因此 Dash 必须假定在初始化应用程序时输入出现在应用程序 `layout` 中。从本示例中的输出元素的角度来看，新输入组件的处理方式就像已为现有输入提供了新值一样，而不是将其视为初始呈现。\n",
    "\n",
    "## 循环回调\n",
    "\n",
    "从 dash v1.19.0 开始，您可以在同一回调中创建循环更新。\n",
    "\n",
    "不支持涉及多个回调的循环回调链。\n",
    "\n",
    "循环回调可用于保持多个输入彼此同步。\n",
    "\n",
    "## 将 Slider 与 Text Input 同步的示例\n",
    "\n",
    "```{include} ../examples/sync_slider_text.py\n",
    ":code: python\n",
    "```"
   ]
  },
  {
   "cell_type": "code",
   "execution_count": 7,
   "id": "54b18377",
   "metadata": {
    "tags": [
     "remove-input"
    ]
   },
   "outputs": [
    {
     "data": {
      "text/html": [
       "<embed type=\"text/html\" class=\"w3-pale-blue\" width=\"100%\" height=\"110\" src=\"https://dash-tests.herokuapp.com/examples/sync-slider-text\">"
      ],
      "text/plain": [
       "<sanstyle.display.html.Embed at 0x7f151c3ca790>"
      ]
     },
     "execution_count": 7,
     "metadata": {},
     "output_type": "execute_result"
    }
   ],
   "source": [
    "from sanstyle.display.html import Embed\n",
    "\n",
    "snippet_url = 'https://dash-tests.herokuapp.com'\n",
    "Embed(snippet_url + '/examples/sync-slider-text',\n",
    "      className='w3-pale-blue',\n",
    "      height=110)"
   ]
  },
  {
   "cell_type": "markdown",
   "id": "f2ca0642",
   "metadata": {},
   "source": [
    "## 显示两个具有不同单位的输入示例\n",
    "\n",
    "```{include} ../examples/convert_temperature.py\n",
    ":code: python\n",
    "```"
   ]
  },
  {
   "cell_type": "code",
   "execution_count": 8,
   "id": "ed600199",
   "metadata": {
    "tags": [
     "remove-input"
    ]
   },
   "outputs": [
    {
     "data": {
      "text/html": [
       "<embed type=\"text/html\" class=\"w3-pale-blue\" width=\"100%\" height=\"110\" src=\"https://dash-tests.herokuapp.com/examples/convert-temperature\">"
      ],
      "text/plain": [
       "<sanstyle.display.html.Embed at 0x7f151c3ca580>"
      ]
     },
     "execution_count": 8,
     "metadata": {},
     "output_type": "execute_result"
    }
   ],
   "source": [
    "from sanstyle.display.html import Embed\n",
    "\n",
    "snippet_url = 'https://dash-tests.herokuapp.com'\n",
    "Embed(snippet_url + '/examples/convert-temperature',\n",
    "      className='w3-pale-blue',\n",
    "      height=110)"
   ]
  },
  {
   "cell_type": "markdown",
   "id": "971045a4",
   "metadata": {},
   "source": [
    "## 同步两个清单\n",
    "\n",
    "```{include} ../examples/sync_checklists.py\n",
    ":code: python\n",
    "```"
   ]
  },
  {
   "cell_type": "code",
   "execution_count": 9,
   "id": "286b0903",
   "metadata": {
    "tags": [
     "remove-input"
    ]
   },
   "outputs": [
    {
     "data": {
      "text/html": [
       "<embed type=\"text/html\" class=\"w3-pale-blue\" width=\"100%\" height=\"80\" src=\"https://dash-tests.herokuapp.com/examples/sync-checklists\">"
      ],
      "text/plain": [
       "<sanstyle.display.html.Embed at 0x7f151c3ca130>"
      ]
     },
     "execution_count": 9,
     "metadata": {},
     "output_type": "execute_result"
    }
   ],
   "source": [
    "from sanstyle.display.html import Embed\n",
    "\n",
    "snippet_url = 'https://dash-tests.herokuapp.com'\n",
    "Embed(snippet_url + '/examples/sync-checklists',\n",
    "      className='w3-pale-blue',\n",
    "      height=80)"
   ]
  }
 ],
 "metadata": {
  "jupytext": {
   "text_representation": {
    "extension": ".md",
    "format_name": "myst"
   }
  },
  "kernelspec": {
   "display_name": "ai",
   "language": "python",
   "name": "ai"
  },
  "language_info": {
   "codemirror_mode": {
    "name": "ipython",
    "version": 3
   },
   "file_extension": ".py",
   "mimetype": "text/x-python",
   "name": "python",
   "nbconvert_exporter": "python",
   "pygments_lexer": "ipython3",
   "version": "3.9.5"
  },
  "source_map": [
   10,
   25,
   34,
   44,
   53,
   68,
   77,
   123,
   132,
   156,
   165,
   186,
   195,
   263,
   272,
   280,
   289,
   297
  ]
 },
 "nbformat": 4,
 "nbformat_minor": 5
}