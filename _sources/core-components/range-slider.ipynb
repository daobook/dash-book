{
 "cells": [
  {
   "cell_type": "markdown",
   "id": "225f9c0c",
   "metadata": {},
   "source": [
    "(dash:dcc/range-slider)=\n",
    "# `dcc.RangeSlider`\n",
    "\n",
    "参考：[dcc.RangeSlider | Dash for Python Documentation | Plotly](https://dash.plotly.com/dash-core-components/rangeslider)\n",
    "\n",
    "## 简单例子\n",
    "\n",
    "一个绑定回调的基本 RangeSlider 的例子。\n",
    "\n",
    "\n",
    "```{include} ../examples/simple_range_slider.py\n",
    ":code: python\n",
    "```"
   ]
  },
  {
   "cell_type": "code",
   "execution_count": 1,
   "id": "0e45db4b",
   "metadata": {
    "tags": [
     "remove-input"
    ]
   },
   "outputs": [
    {
     "data": {
      "text/html": [
       "<embed type=\"text/html\" class=\"w3-pale-blue\" width=\"100%\" height=\"100\" src=\"https://dash-book.herokuapp.com/examples/simple-range-slider\">"
      ],
      "text/plain": [
       "<sanstyle.display.html.Embed at 0x7f67941fb700>"
      ]
     },
     "execution_count": 1,
     "metadata": {},
     "output_type": "execute_result"
    }
   ],
   "source": [
    "from sanstyle.display.html import Embed\n",
    "\n",
    "snippet_url = 'https://dash-book.herokuapp.com'\n",
    "Embed(snippet_url + '/examples/simple-range-slider',\n",
    "      className='w3-pale-blue',\n",
    "      height=100)"
   ]
  },
  {
   "cell_type": "markdown",
   "id": "85262df5",
   "metadata": {},
   "source": [
    "## 标记和步长\n",
    "\n",
    "如果滑块 `marks` 被定义并且 `step` 被设置为 `None`，那么滑块将只能选择标记预定义的值。注意，默认值是 `step=1`，因此必须显式指定 `None` 以获得此行为。\n",
    "\n",
    "```{include} ../examples/mark_range_slider.py\n",
    ":code: python\n",
    "```"
   ]
  },
  {
   "cell_type": "code",
   "execution_count": 2,
   "id": "900e624d",
   "metadata": {
    "tags": [
     "remove-input"
    ]
   },
   "outputs": [
    {
     "data": {
      "text/html": [
       "<embed type=\"text/html\" class=\"w3-pale-blue\" width=\"100%\" height=\"100\" src=\"https://dash-book.herokuapp.com/examples/mark-range-slider\">"
      ],
      "text/plain": [
       "<sanstyle.display.html.Embed at 0x7f67962f2d30>"
      ]
     },
     "execution_count": 2,
     "metadata": {},
     "output_type": "execute_result"
    }
   ],
   "source": [
    "from sanstyle.display.html import Embed\n",
    "\n",
    "snippet_url = 'https://dash-book.herokuapp.com'\n",
    "Embed(snippet_url + '/examples/mark-range-slider',\n",
    "      className='w3-pale-blue',\n",
    "      height=100)"
   ]
  },
  {
   "cell_type": "markdown",
   "id": "e3fbc242",
   "metadata": {},
   "source": [
    "待续。。。"
   ]
  }
 ],
 "metadata": {
  "jupytext": {
   "formats": "ipynb,md:myst",
   "text_representation": {
    "extension": ".md",
    "format_name": "myst"
   }
  },
  "kernelspec": {
   "display_name": "ai",
   "language": "python",
   "name": "ai"
  },
  "language_info": {
   "codemirror_mode": {
    "name": "ipython",
    "version": 3
   },
   "file_extension": ".py",
   "mimetype": "text/x-python",
   "name": "python",
   "nbconvert_exporter": "python",
   "pygments_lexer": "ipython3",
   "version": "3.9.5"
  },
  "source_map": [
   11,
   27,
   36,
   46,
   55
  ]
 },
 "nbformat": 4,
 "nbformat_minor": 5
}