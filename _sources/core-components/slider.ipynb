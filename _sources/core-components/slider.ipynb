{
 "cells": [
  {
   "cell_type": "markdown",
   "id": "40029900",
   "metadata": {},
   "source": [
    "(dash:dcc/slider)=\n",
    "#  `dcc.Slider`\n",
    "\n",
    "一个绑定回调的基本滑块的例子。\n",
    "\n",
    "```{include} ../examples/simple_slider.py\n",
    ":code: python\n",
    "```"
   ]
  },
  {
   "cell_type": "code",
   "execution_count": 1,
   "id": "4a8aa19f",
   "metadata": {
    "tags": [
     "remove-input"
    ]
   },
   "outputs": [
    {
     "data": {
      "text/html": [
       "<embed type=\"text/html\" class=\"w3-pale-blue\" width=\"100%\" height=\"70\" src=\"https://dash-tests.herokuapp.com/examples/simple-slider\">"
      ],
      "text/plain": [
       "<sanstyle.display.html.Embed at 0x7f07650f6070>"
      ]
     },
     "execution_count": 1,
     "metadata": {},
     "output_type": "execute_result"
    }
   ],
   "source": [
    "from sanstyle.display.html import Embed\n",
    "\n",
    "snippet_url = 'https://dash-tests.herokuapp.com'\n",
    "Embed(snippet_url + '/examples/simple-slider',\n",
    "      className='w3-pale-blue',\n",
    "      height=70)"
   ]
  }
 ],
 "metadata": {
  "jupytext": {
   "formats": "ipynb,md:myst",
   "text_representation": {
    "extension": ".md",
    "format_name": "myst"
   }
  },
  "kernelspec": {
   "display_name": "ai",
   "language": "python",
   "name": "ai"
  },
  "language_info": {
   "codemirror_mode": {
    "name": "ipython",
    "version": 3
   },
   "file_extension": ".py",
   "mimetype": "text/x-python",
   "name": "python",
   "nbconvert_exporter": "python",
   "pygments_lexer": "ipython3",
   "version": "3.9.5"
  },
  "source_map": [
   11,
   22
  ]
 },
 "nbformat": 4,
 "nbformat_minor": 5
}