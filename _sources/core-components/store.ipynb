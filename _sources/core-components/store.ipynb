{
 "cells": [
  {
   "cell_type": "markdown",
   "id": "82f88a99",
   "metadata": {},
   "source": [
    "(dash:dcc/store)=\n",
    "# `dcc.Store`\n",
    "\n",
    "参考：[dcc.Store | Dash for Python Documentation | Plotly](https://dash.plotly.com/dash-core-components/store)\n",
    "\n",
    "`dcc.Store` 组件用于在浏览器中存储 JSON 数据。\n",
    "\n",
    "## 点击的例子\n",
    "\n",
    "```{include} ../examples/store_clicks.py\n",
    ":code: python\n",
    "```"
   ]
  },
  {
   "cell_type": "code",
   "execution_count": 1,
   "id": "d8bc1bae",
   "metadata": {
    "tags": [
     "remove-input"
    ]
   },
   "outputs": [
    {
     "data": {
      "text/html": [
       "<embed type=\"text/html\" class=\"w3-pale-blue\" width=\"100%\" height=\"210\" src=\"https://dash-book.herokuapp.com/examples/store-clicks\">"
      ],
      "text/plain": [
       "<sanstyle.display.html.Embed at 0x7ff1c8358850>"
      ]
     },
     "execution_count": 1,
     "metadata": {},
     "output_type": "execute_result"
    }
   ],
   "source": [
    "from sanstyle.display.html import Embed\n",
    "\n",
    "snippet_url = 'https://dash-book.herokuapp.com'\n",
    "Embed(snippet_url + '/examples/store-clicks',\n",
    "      className='w3-pale-blue',\n",
    "      height=210)"
   ]
  },
  {
   "cell_type": "markdown",
   "id": "8ee2f8d1",
   "metadata": {},
   "source": [
    "## 在回调之间共享数据\n",
    "\n",
    "```{include} ../examples/share_data_callbacks.py\n",
    ":code: python\n",
    "```"
   ]
  },
  {
   "cell_type": "code",
   "execution_count": 2,
   "id": "529490d2",
   "metadata": {
    "tags": [
     "remove-input"
    ]
   },
   "outputs": [
    {
     "data": {
      "text/html": [
       "<embed type=\"text/html\" class=\"w3-pale-blue\" width=\"100%\" height=\"800\" src=\"https://dash-book.herokuapp.com/examples/share-data-callbacks\">"
      ],
      "text/plain": [
       "<sanstyle.display.html.Embed at 0x7ff1ca44e8b0>"
      ]
     },
     "execution_count": 2,
     "metadata": {},
     "output_type": "execute_result"
    }
   ],
   "source": [
    "from sanstyle.display.html import Embed\n",
    "\n",
    "snippet_url = 'https://dash-book.herokuapp.com'\n",
    "Embed(snippet_url + '/examples/share-data-callbacks',\n",
    "      className='w3-pale-blue',\n",
    "      height=800)"
   ]
  },
  {
   "cell_type": "markdown",
   "id": "b0c7c9c3",
   "metadata": {},
   "source": [
    "## Storage 的限制\n",
    "\n",
    "- 浏览器的最大存储空间由以下因素决定：\n",
    "  - 手机或笔记本电脑。\n",
    "  - 在浏览器中，一个复杂的算法在配额管理（Quota Management）中实现。\n",
    "  - UTF-16 的存储编码最终只能节省 UTF-8 的一半大小。\n",
    "  - 一般来说，在大多数环境中存储 2MB 是安全的，而在大多数只有桌面的应用程序中存储 5~10MB 是安全的。\n",
    "- `modified_timestamp` 为只读。\n",
    "\n",
    "## 检索初始存储数据\n",
    "\n",
    "如果使用 `data` 属性作为输出，则无法使用 `data` 属性获得加载时的初始数据。为了应对这种情况，可以使用 `modified_timestamp` 作为 `Input`，使用 `data` 作为 `State`。\n",
    "\n",
    "## `dcc.Store` 属性\n",
    "\n",
    "`id`（字符串；必需）：此组件的 ID，用于在回调中识别 Dash 组件。ID 需要在应用程序的所有组件中是唯一的。\n",
    "- `clear_data`（布尔；默认 `False`）：设置为 `True` 删除 `data_key` 中包含的数据。\n",
    "- `data`（dict | list | number | string | boolean；可选）：`id` 的存储数据。\n",
    "- `modified_timestamp`（数字；默认 `-1`）：上次修改存储的时间。\n",
    "- `storage_type`（'local', 'session', 'memory'（默认））：网络存储的类型。`memory`：只保留在内存中，刷新页面时重置。` local`：`window.localStorage`，浏览器退出后保留数据。`session`：window.sessionStorage，一旦浏览器退出，数据将被清除。"
   ]
  }
 ],
 "metadata": {
  "jupytext": {
   "formats": "ipynb,md:myst",
   "text_representation": {
    "extension": ".md",
    "format_name": "myst"
   }
  },
  "kernelspec": {
   "display_name": "ai",
   "language": "python",
   "name": "ai"
  },
  "language_info": {
   "codemirror_mode": {
    "name": "ipython",
    "version": 3
   },
   "file_extension": ".py",
   "mimetype": "text/x-python",
   "name": "python",
   "nbconvert_exporter": "python",
   "pygments_lexer": "ipython3",
   "version": "3.9.5"
  },
  "source_map": [
   11,
   26,
   35,
   43,
   52
  ]
 },
 "nbformat": 4,
 "nbformat_minor": 5
}