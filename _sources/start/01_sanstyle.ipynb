{
 "cells": [
  {
   "cell_type": "markdown",
   "id": "0a45730c",
   "metadata": {},
   "source": [
    "# Dash Xinet 与 Sanstyle\n",
    "\n",
    "为了方便管理代码和数据创建仓库：\n",
    "\n",
    "- [xinetzone/dash-xinet](https://github.com/xinetzone/dash-xinet)：简化 Dash 的使用。\n",
    "- [SanstyleLab/plotly-dastsets](https://github.com/SanstyleLab/plotly-dastsets)：存储一些数据集以及展示图片。\n",
    "- [xinetzone/sanstyle](https://github.com/xinetzone/sanstyle)：处理一些常见任务。\n",
    "\n",
    "安装：\n",
    "\n",
    "```sh\n",
    "pip install dash-xinet sanstyle\n",
    "```\n",
    "\n",
    "统一载入模块和库（后文将省略这部分代码）：\n",
    "\n",
    "```python\n",
    "from dash_xinet.server import create_app, run_server\n",
    "from dash_xinet.utils.nav import create_nav\n",
    "\n",
    "external_stylesheets = ['https://codepen.io/chriddyp/pen/bWLwgP.css']\n",
    "app = create_app(__name__, external_stylesheets=external_stylesheets)\n",
    "```\n",
    "\n",
    "Dash 应用使用和运行：\n",
    "\n",
    "```python\n",
    "layout = ... # 布局\n",
    "await run_server(app, layout, port=8050) # 启动应用\n",
    "```\n",
    "\n",
    "## 关于 `sanstyle`\n",
    "\n",
    "可以直接批量修改文件后缀：\n",
    "\n",
    "```python\n",
    "rename_suffix(root, old, new)\n",
    "```\n",
    "\n",
    "`root`\n",
    ":   需要修改的跟目录\n",
    "\n",
    "`old`\n",
    ":   被修改的文件后缀，如 `.txt`\n",
    "\n",
    "`new`\n",
    ":   修改后的文件后缀，如 `.rst`\n",
    "\n",
    "### 创建 `<embed>` 元素"
   ]
  },
  {
   "cell_type": "code",
   "execution_count": 1,
   "id": "d33499dc",
   "metadata": {},
   "outputs": [
    {
     "data": {
      "text/html": [
       "<embed type=\"text/html\" class=\"w3-pale-blue\" width=\"100%\" height=\"500\" src=\"https://dash-book.herokuapp.com/examples/figure-n-slider\">"
      ],
      "text/plain": [
       "<sanstyle.display.html.Embed at 0x7f9664edf640>"
      ]
     },
     "execution_count": 1,
     "metadata": {},
     "output_type": "execute_result"
    }
   ],
   "source": [
    "from sanstyle.display.html import Embed\n",
    "\n",
    "snippet_url = 'https://dash-book.herokuapp.com'\n",
    "figure_n_slider_dash = Embed(snippet_url + '/examples/figure-n-slider',\n",
    "                   className='w3-pale-blue',\n",
    "                   height=500)\n",
    "figure_n_slider_dash"
   ]
  },
  {
   "cell_type": "code",
   "execution_count": 2,
   "id": "a5ede34f",
   "metadata": {
    "tags": [
     "remove-input"
    ]
   },
   "outputs": [
    {
     "data": {
      "text/html": [
       "<embed type=\"text/html\" class=\"w3-pale-blue\" width=\"100%\" height=\"500\" src=\"https://dash-book.herokuapp.com/examples/figure-n-slider\">"
      ],
      "text/plain": [
       "<sanstyle.display.html.Embed at 0x7f9664edf640>"
      ]
     },
     "metadata": {
      "scrapbook": {
       "mime_prefix": "application/papermill.record/",
       "name": "figure_n_slider_dash"
      }
     },
     "output_type": "display_data"
    }
   ],
   "source": [
    "from myst_nb import glue\n",
    "glue(\"figure_n_slider_dash\", figure_n_slider_dash, display=False)"
   ]
  },
  {
   "cell_type": "markdown",
   "id": "6a240b56",
   "metadata": {},
   "source": [
    "## 导入 `plotly-dastsets`"
   ]
  },
  {
   "cell_type": "code",
   "execution_count": 3,
   "id": "ea1e516a",
   "metadata": {},
   "outputs": [
    {
     "data": {
      "text/html": [
       "<div>\n",
       "<style scoped>\n",
       "    .dataframe tbody tr th:only-of-type {\n",
       "        vertical-align: middle;\n",
       "    }\n",
       "\n",
       "    .dataframe tbody tr th {\n",
       "        vertical-align: top;\n",
       "    }\n",
       "\n",
       "    .dataframe thead th {\n",
       "        text-align: right;\n",
       "    }\n",
       "</style>\n",
       "<table border=\"1\" class=\"dataframe\">\n",
       "  <thead>\n",
       "    <tr style=\"text-align: right;\">\n",
       "      <th></th>\n",
       "      <th>Unnamed: 0</th>\n",
       "      <th>state</th>\n",
       "      <th>total exports</th>\n",
       "      <th>beef</th>\n",
       "      <th>pork</th>\n",
       "      <th>poultry</th>\n",
       "      <th>dairy</th>\n",
       "      <th>fruits fresh</th>\n",
       "      <th>fruits proc</th>\n",
       "      <th>total fruits</th>\n",
       "      <th>veggies fresh</th>\n",
       "      <th>veggies proc</th>\n",
       "      <th>total veggies</th>\n",
       "      <th>corn</th>\n",
       "      <th>wheat</th>\n",
       "      <th>cotton</th>\n",
       "    </tr>\n",
       "  </thead>\n",
       "  <tbody>\n",
       "    <tr>\n",
       "      <th>0</th>\n",
       "      <td>0</td>\n",
       "      <td>Alabama</td>\n",
       "      <td>1390.63</td>\n",
       "      <td>34.4</td>\n",
       "      <td>10.6</td>\n",
       "      <td>481.0</td>\n",
       "      <td>4.06</td>\n",
       "      <td>8.0</td>\n",
       "      <td>17.1</td>\n",
       "      <td>25.11</td>\n",
       "      <td>5.5</td>\n",
       "      <td>8.9</td>\n",
       "      <td>14.33</td>\n",
       "      <td>34.9</td>\n",
       "      <td>70.0</td>\n",
       "      <td>317.61</td>\n",
       "    </tr>\n",
       "    <tr>\n",
       "      <th>1</th>\n",
       "      <td>1</td>\n",
       "      <td>Alaska</td>\n",
       "      <td>13.31</td>\n",
       "      <td>0.2</td>\n",
       "      <td>0.1</td>\n",
       "      <td>0.0</td>\n",
       "      <td>0.19</td>\n",
       "      <td>0.0</td>\n",
       "      <td>0.0</td>\n",
       "      <td>0.00</td>\n",
       "      <td>0.6</td>\n",
       "      <td>1.0</td>\n",
       "      <td>1.56</td>\n",
       "      <td>0.0</td>\n",
       "      <td>0.0</td>\n",
       "      <td>0.00</td>\n",
       "    </tr>\n",
       "    <tr>\n",
       "      <th>2</th>\n",
       "      <td>2</td>\n",
       "      <td>Arizona</td>\n",
       "      <td>1463.17</td>\n",
       "      <td>71.3</td>\n",
       "      <td>17.9</td>\n",
       "      <td>0.0</td>\n",
       "      <td>105.48</td>\n",
       "      <td>19.3</td>\n",
       "      <td>41.0</td>\n",
       "      <td>60.27</td>\n",
       "      <td>147.5</td>\n",
       "      <td>239.4</td>\n",
       "      <td>386.91</td>\n",
       "      <td>7.3</td>\n",
       "      <td>48.7</td>\n",
       "      <td>423.95</td>\n",
       "    </tr>\n",
       "    <tr>\n",
       "      <th>3</th>\n",
       "      <td>3</td>\n",
       "      <td>Arkansas</td>\n",
       "      <td>3586.02</td>\n",
       "      <td>53.2</td>\n",
       "      <td>29.4</td>\n",
       "      <td>562.9</td>\n",
       "      <td>3.53</td>\n",
       "      <td>2.2</td>\n",
       "      <td>4.7</td>\n",
       "      <td>6.88</td>\n",
       "      <td>4.4</td>\n",
       "      <td>7.1</td>\n",
       "      <td>11.45</td>\n",
       "      <td>69.5</td>\n",
       "      <td>114.5</td>\n",
       "      <td>665.44</td>\n",
       "    </tr>\n",
       "    <tr>\n",
       "      <th>4</th>\n",
       "      <td>4</td>\n",
       "      <td>California</td>\n",
       "      <td>16472.88</td>\n",
       "      <td>228.7</td>\n",
       "      <td>11.1</td>\n",
       "      <td>225.4</td>\n",
       "      <td>929.95</td>\n",
       "      <td>2791.8</td>\n",
       "      <td>5944.6</td>\n",
       "      <td>8736.40</td>\n",
       "      <td>803.2</td>\n",
       "      <td>1303.5</td>\n",
       "      <td>2106.79</td>\n",
       "      <td>34.6</td>\n",
       "      <td>249.3</td>\n",
       "      <td>1064.95</td>\n",
       "    </tr>\n",
       "  </tbody>\n",
       "</table>\n",
       "</div>"
      ],
      "text/plain": [
       "   Unnamed: 0        state  total exports   beef  pork  poultry   dairy  \\\n",
       "0           0      Alabama        1390.63   34.4  10.6    481.0    4.06   \n",
       "1           1       Alaska          13.31    0.2   0.1      0.0    0.19   \n",
       "2           2      Arizona        1463.17   71.3  17.9      0.0  105.48   \n",
       "3           3     Arkansas        3586.02   53.2  29.4    562.9    3.53   \n",
       "4           4   California       16472.88  228.7  11.1    225.4  929.95   \n",
       "\n",
       "   fruits fresh  fruits proc  total fruits  veggies fresh  veggies proc  \\\n",
       "0           8.0         17.1         25.11            5.5           8.9   \n",
       "1           0.0          0.0          0.00            0.6           1.0   \n",
       "2          19.3         41.0         60.27          147.5         239.4   \n",
       "3           2.2          4.7          6.88            4.4           7.1   \n",
       "4        2791.8       5944.6       8736.40          803.2        1303.5   \n",
       "\n",
       "   total veggies  corn  wheat   cotton  \n",
       "0          14.33  34.9   70.0   317.61  \n",
       "1           1.56   0.0    0.0     0.00  \n",
       "2         386.91   7.3   48.7   423.95  \n",
       "3          11.45  69.5  114.5   665.44  \n",
       "4        2106.79  34.6  249.3  1064.95  "
      ]
     },
     "execution_count": 3,
     "metadata": {},
     "output_type": "execute_result"
    }
   ],
   "source": [
    "import pandas as pd\n",
    "from sanstyle.github.file import lfs_url\n",
    "\n",
    "url = lfs_url('SanstyleLab/plotly-dastsets',\n",
    "              'simple/usa-agricultural-exports-2011.csv')\n",
    "df = pd.read_csv(url)\n",
    "df.head()"
   ]
  },
  {
   "cell_type": "markdown",
   "id": "96c9fb1e",
   "metadata": {},
   "source": [
    "更多关于 `dash_xinet` 与 `sanstyle` 的信息可阅读：[](sanstyle:intro)。"
   ]
  }
 ],
 "metadata": {
  "jupytext": {
   "text_representation": {
    "extension": ".md",
    "format_name": "myst"
   }
  },
  "kernelspec": {
   "display_name": "ai",
   "language": "python",
   "name": "ai"
  },
  "language_info": {
   "codemirror_mode": {
    "name": "ipython",
    "version": 3
   },
   "file_extension": ".py",
   "mimetype": "text/x-python",
   "name": "python",
   "nbconvert_exporter": "python",
   "pygments_lexer": "ipython3",
   "version": "3.8.5"
  },
  "source_map": [
   10,
   62,
   72,
   76,
   80,
   88
  ]
 },
 "nbformat": 4,
 "nbformat_minor": 5
}